{
 "cells": [
  {
   "cell_type": "code",
   "execution_count": 2,
   "metadata": {
    "ExecuteTime": {
     "end_time": "2024-06-06T12:33:18.162188Z",
     "start_time": "2024-06-06T12:33:18.155786Z"
    }
   },
   "outputs": [
    {
     "name": "stdout",
     "output_type": "stream",
     "text": [
      "env: AWS_ACCESS_KEY_ID=minio\n",
      "env: AWS_SECRET_ACCESS_KEY=minio123\n",
      "env: MLFLOW_S3_ENDPOINT_URL=http://localhost:9000\n",
      "env: AWS_ENDPOINT_URL_S3=http://localhost:9000\n"
     ]
    }
   ],
   "source": [
    "import awswrangler as wr\n",
    "import numpy as np\n",
    "import mlflow\n",
    "\n",
    "%env AWS_ACCESS_KEY_ID=minio   \n",
    "%env AWS_SECRET_ACCESS_KEY=minio123 \n",
    "%env MLFLOW_S3_ENDPOINT_URL=http://localhost:9000\n",
    "%env AWS_ENDPOINT_URL_S3=http://localhost:9000"
   ]
  },
  {
   "cell_type": "markdown",
   "metadata": {},
   "source": [
    "# Hyperparams tuning\n"
   ]
  },
  {
   "cell_type": "code",
   "execution_count": 3,
   "metadata": {
    "ExecuteTime": {
     "end_time": "2024-06-06T12:33:21.563179Z",
     "start_time": "2024-06-06T12:33:21.560951Z"
    }
   },
   "outputs": [],
   "source": [
    "mlflow_server = \"http://localhost:5000\"\n",
    "\n",
    "mlflow.set_tracking_uri(mlflow_server)"
   ]
  },
  {
   "cell_type": "code",
   "execution_count": 4,
   "metadata": {
    "ExecuteTime": {
     "end_time": "2024-06-06T12:33:22.668794Z",
     "start_time": "2024-06-06T12:33:22.215467Z"
    }
   },
   "outputs": [],
   "source": [
    "X_train = wr.s3.read_csv(\"s3://data/final/train/bigmart_X_train.csv\")\n",
    "y_train = wr.s3.read_csv(\"s3://data/final/train/bigmart_y_train.csv\")\n",
    "\n",
    "X_test = wr.s3.read_csv(\"s3://data/final/test/bigmart_X_test.csv\")\n",
    "y_test = wr.s3.read_csv(\"s3://data/final/test/bigmart_y_test.csv\")"
   ]
  },
  {
   "cell_type": "code",
   "execution_count": 5,
   "metadata": {},
   "outputs": [],
   "source": [
    "from plots import plot_correlation_with_target\n",
    "\n",
    "target_col = y_train.columns[0]\n",
    "correlation_plot = plot_correlation_with_target(X_train, y_train, target_col=target_col)"
   ]
  },
  {
   "cell_type": "code",
   "execution_count": 6,
   "metadata": {
    "ExecuteTime": {
     "end_time": "2024-06-06T12:33:31.839716Z",
     "start_time": "2024-06-06T12:33:31.179611Z"
    }
   },
   "outputs": [
    {
     "name": "stderr",
     "output_type": "stream",
     "text": [
      "/Users/miltonlopez/repos/tp2-main/.venv/lib/python3.12/site-packages/tqdm/auto.py:21: TqdmWarning: IProgress not found. Please update jupyter and ipywidgets. See https://ipywidgets.readthedocs.io/en/stable/user_install.html\n",
      "  from .autonotebook import tqdm as notebook_tqdm\n"
     ]
    }
   ],
   "source": [
    "import datetime\n",
    "import optuna\n",
    "\n",
    "from mlflow.models import infer_signature\n",
    "from mlflow_aux import get_or_create_experiment\n",
    "\n",
    "from sklearn.metrics import mean_squared_error, r2_score\n",
    "\n",
    "optuna.logging.set_verbosity(optuna.logging.ERROR)"
   ]
  },
  {
   "cell_type": "code",
   "execution_count": 7,
   "metadata": {},
   "outputs": [],
   "source": [
    "from sklearn.linear_model import LinearRegression, Ridge, Lasso, ElasticNet\n",
    "from sklearn.model_selection import cross_val_score\n",
    "\n",
    "\n",
    "def objective(trial, X, y):\n",
    "    model_type = trial.suggest_categorical(\n",
    "        \"model_type\", [\"Linear\", \"Ridge\", \"Lasso\", \"ElasticNet\"]\n",
    "    )\n",
    "\n",
    "    if model_type == \"Linear\":\n",
    "        model = LinearRegression()\n",
    "    elif model_type == \"Ridge\":\n",
    "        alpha = trial.suggest_loguniform(\"alpha\", 1e-5, 1)\n",
    "        model = Ridge(alpha=alpha)\n",
    "    elif model_type == \"Lasso\":\n",
    "        alpha = trial.suggest_loguniform(\"alpha\", 1e-5, 1)\n",
    "        model = Lasso(alpha=alpha)\n",
    "    else:\n",
    "        alpha = trial.suggest_loguniform(\"alpha\", 1e-5, 1)\n",
    "        l1_ratio = trial.suggest_uniform(\"l1_ratio\", 0, 1)\n",
    "        model = ElasticNet(alpha=alpha, l1_ratio=l1_ratio)\n",
    "\n",
    "    scores = cross_val_score(\n",
    "        model, X, y.values.ravel(), cv=5, scoring=\"neg_mean_squared_error\"\n",
    "    )\n",
    "    rmse = np.sqrt(-scores.mean())\n",
    "    return rmse"
   ]
  },
  {
   "cell_type": "code",
   "execution_count": 8,
   "metadata": {},
   "outputs": [
    {
     "name": "stdout",
     "output_type": "stream",
     "text": [
      "Experiment ID: 1\n"
     ]
    }
   ],
   "source": [
    "experiment_id = get_or_create_experiment(\"BigMart Sales\")\n",
    "print(f\"Experiment ID: {experiment_id}\")\n",
    "\n",
    "\n",
    "run_name_parent = \"best_linear_model_\" + datetime.datetime.now().strftime(\n",
    "    \"%Y%m%d-%H%M%S\"\n",
    ")"
   ]
  },
  {
   "cell_type": "code",
   "execution_count": 9,
   "metadata": {},
   "outputs": [
    {
     "name": "stderr",
     "output_type": "stream",
     "text": [
      "/var/folders/lb/x4v1k6xx17344x5164xr7d_w0000gn/T/ipykernel_27563/3009714792.py:13: FutureWarning: suggest_loguniform has been deprecated in v3.0.0. This feature will be removed in v6.0.0. See https://github.com/optuna/optuna/releases/tag/v3.0.0. Use suggest_float(..., log=True) instead.\n",
      "  alpha = trial.suggest_loguniform(\"alpha\", 1e-5, 1)\n",
      "/var/folders/lb/x4v1k6xx17344x5164xr7d_w0000gn/T/ipykernel_27563/3009714792.py:16: FutureWarning: suggest_loguniform has been deprecated in v3.0.0. This feature will be removed in v6.0.0. See https://github.com/optuna/optuna/releases/tag/v3.0.0. Use suggest_float(..., log=True) instead.\n",
      "  alpha = trial.suggest_loguniform(\"alpha\", 1e-5, 1)\n",
      "/var/folders/lb/x4v1k6xx17344x5164xr7d_w0000gn/T/ipykernel_27563/3009714792.py:19: FutureWarning: suggest_loguniform has been deprecated in v3.0.0. This feature will be removed in v6.0.0. See https://github.com/optuna/optuna/releases/tag/v3.0.0. Use suggest_float(..., log=True) instead.\n",
      "  alpha = trial.suggest_loguniform(\"alpha\", 1e-5, 1)\n",
      "/var/folders/lb/x4v1k6xx17344x5164xr7d_w0000gn/T/ipykernel_27563/3009714792.py:20: FutureWarning: suggest_uniform has been deprecated in v3.0.0. This feature will be removed in v6.0.0. See https://github.com/optuna/optuna/releases/tag/v3.0.0. Use suggest_float instead.\n",
      "  l1_ratio = trial.suggest_uniform(\"l1_ratio\", 0, 1)\n",
      "/var/folders/lb/x4v1k6xx17344x5164xr7d_w0000gn/T/ipykernel_27563/3009714792.py:16: FutureWarning: suggest_loguniform has been deprecated in v3.0.0. This feature will be removed in v6.0.0. See https://github.com/optuna/optuna/releases/tag/v3.0.0. Use suggest_float(..., log=True) instead.\n",
      "  alpha = trial.suggest_loguniform(\"alpha\", 1e-5, 1)\n",
      "/var/folders/lb/x4v1k6xx17344x5164xr7d_w0000gn/T/ipykernel_27563/3009714792.py:16: FutureWarning: suggest_loguniform has been deprecated in v3.0.0. This feature will be removed in v6.0.0. See https://github.com/optuna/optuna/releases/tag/v3.0.0. Use suggest_float(..., log=True) instead.\n",
      "  alpha = trial.suggest_loguniform(\"alpha\", 1e-5, 1)\n",
      "/var/folders/lb/x4v1k6xx17344x5164xr7d_w0000gn/T/ipykernel_27563/3009714792.py:19: FutureWarning: suggest_loguniform has been deprecated in v3.0.0. This feature will be removed in v6.0.0. See https://github.com/optuna/optuna/releases/tag/v3.0.0. Use suggest_float(..., log=True) instead.\n",
      "  alpha = trial.suggest_loguniform(\"alpha\", 1e-5, 1)\n",
      "/var/folders/lb/x4v1k6xx17344x5164xr7d_w0000gn/T/ipykernel_27563/3009714792.py:20: FutureWarning: suggest_uniform has been deprecated in v3.0.0. This feature will be removed in v6.0.0. See https://github.com/optuna/optuna/releases/tag/v3.0.0. Use suggest_float instead.\n",
      "  l1_ratio = trial.suggest_uniform(\"l1_ratio\", 0, 1)\n",
      "/Users/miltonlopez/repos/tp2-main/.venv/lib/python3.12/site-packages/sklearn/linear_model/_coordinate_descent.py:697: ConvergenceWarning: Objective did not converge. You might want to increase the number of iterations, check the scale of the features or consider increasing regularisation. Duality gap: 1.861e+09, tolerance: 6.689e+05\n",
      "  model = cd_fast.enet_coordinate_descent(\n",
      "/Users/miltonlopez/repos/tp2-main/.venv/lib/python3.12/site-packages/sklearn/linear_model/_coordinate_descent.py:697: ConvergenceWarning: Objective did not converge. You might want to increase the number of iterations, check the scale of the features or consider increasing regularisation. Duality gap: 1.875e+09, tolerance: 6.770e+05\n",
      "  model = cd_fast.enet_coordinate_descent(\n",
      "/Users/miltonlopez/repos/tp2-main/.venv/lib/python3.12/site-packages/sklearn/linear_model/_coordinate_descent.py:697: ConvergenceWarning: Objective did not converge. You might want to increase the number of iterations, check the scale of the features or consider increasing regularisation. Duality gap: 1.870e+09, tolerance: 6.795e+05\n",
      "  model = cd_fast.enet_coordinate_descent(\n",
      "/Users/miltonlopez/repos/tp2-main/.venv/lib/python3.12/site-packages/sklearn/linear_model/_coordinate_descent.py:697: ConvergenceWarning: Objective did not converge. You might want to increase the number of iterations, check the scale of the features or consider increasing regularisation. Duality gap: 1.918e+09, tolerance: 6.707e+05\n",
      "  model = cd_fast.enet_coordinate_descent(\n",
      "/Users/miltonlopez/repos/tp2-main/.venv/lib/python3.12/site-packages/sklearn/linear_model/_coordinate_descent.py:697: ConvergenceWarning: Objective did not converge. You might want to increase the number of iterations, check the scale of the features or consider increasing regularisation. Duality gap: 1.813e+09, tolerance: 6.504e+05\n",
      "  model = cd_fast.enet_coordinate_descent(\n",
      "/var/folders/lb/x4v1k6xx17344x5164xr7d_w0000gn/T/ipykernel_27563/3009714792.py:16: FutureWarning: suggest_loguniform has been deprecated in v3.0.0. This feature will be removed in v6.0.0. See https://github.com/optuna/optuna/releases/tag/v3.0.0. Use suggest_float(..., log=True) instead.\n",
      "  alpha = trial.suggest_loguniform(\"alpha\", 1e-5, 1)\n",
      "/var/folders/lb/x4v1k6xx17344x5164xr7d_w0000gn/T/ipykernel_27563/3009714792.py:13: FutureWarning: suggest_loguniform has been deprecated in v3.0.0. This feature will be removed in v6.0.0. See https://github.com/optuna/optuna/releases/tag/v3.0.0. Use suggest_float(..., log=True) instead.\n",
      "  alpha = trial.suggest_loguniform(\"alpha\", 1e-5, 1)\n",
      "/var/folders/lb/x4v1k6xx17344x5164xr7d_w0000gn/T/ipykernel_27563/3009714792.py:19: FutureWarning: suggest_loguniform has been deprecated in v3.0.0. This feature will be removed in v6.0.0. See https://github.com/optuna/optuna/releases/tag/v3.0.0. Use suggest_float(..., log=True) instead.\n",
      "  alpha = trial.suggest_loguniform(\"alpha\", 1e-5, 1)\n",
      "/var/folders/lb/x4v1k6xx17344x5164xr7d_w0000gn/T/ipykernel_27563/3009714792.py:20: FutureWarning: suggest_uniform has been deprecated in v3.0.0. This feature will be removed in v6.0.0. See https://github.com/optuna/optuna/releases/tag/v3.0.0. Use suggest_float instead.\n",
      "  l1_ratio = trial.suggest_uniform(\"l1_ratio\", 0, 1)\n",
      "/var/folders/lb/x4v1k6xx17344x5164xr7d_w0000gn/T/ipykernel_27563/3009714792.py:19: FutureWarning: suggest_loguniform has been deprecated in v3.0.0. This feature will be removed in v6.0.0. See https://github.com/optuna/optuna/releases/tag/v3.0.0. Use suggest_float(..., log=True) instead.\n",
      "  alpha = trial.suggest_loguniform(\"alpha\", 1e-5, 1)\n",
      "/var/folders/lb/x4v1k6xx17344x5164xr7d_w0000gn/T/ipykernel_27563/3009714792.py:20: FutureWarning: suggest_uniform has been deprecated in v3.0.0. This feature will be removed in v6.0.0. See https://github.com/optuna/optuna/releases/tag/v3.0.0. Use suggest_float instead.\n",
      "  l1_ratio = trial.suggest_uniform(\"l1_ratio\", 0, 1)\n",
      "/var/folders/lb/x4v1k6xx17344x5164xr7d_w0000gn/T/ipykernel_27563/3009714792.py:16: FutureWarning: suggest_loguniform has been deprecated in v3.0.0. This feature will be removed in v6.0.0. See https://github.com/optuna/optuna/releases/tag/v3.0.0. Use suggest_float(..., log=True) instead.\n",
      "  alpha = trial.suggest_loguniform(\"alpha\", 1e-5, 1)\n",
      "/var/folders/lb/x4v1k6xx17344x5164xr7d_w0000gn/T/ipykernel_27563/3009714792.py:19: FutureWarning: suggest_loguniform has been deprecated in v3.0.0. This feature will be removed in v6.0.0. See https://github.com/optuna/optuna/releases/tag/v3.0.0. Use suggest_float(..., log=True) instead.\n",
      "  alpha = trial.suggest_loguniform(\"alpha\", 1e-5, 1)\n",
      "/var/folders/lb/x4v1k6xx17344x5164xr7d_w0000gn/T/ipykernel_27563/3009714792.py:20: FutureWarning: suggest_uniform has been deprecated in v3.0.0. This feature will be removed in v6.0.0. See https://github.com/optuna/optuna/releases/tag/v3.0.0. Use suggest_float instead.\n",
      "  l1_ratio = trial.suggest_uniform(\"l1_ratio\", 0, 1)\n",
      "/var/folders/lb/x4v1k6xx17344x5164xr7d_w0000gn/T/ipykernel_27563/3009714792.py:16: FutureWarning: suggest_loguniform has been deprecated in v3.0.0. This feature will be removed in v6.0.0. See https://github.com/optuna/optuna/releases/tag/v3.0.0. Use suggest_float(..., log=True) instead.\n",
      "  alpha = trial.suggest_loguniform(\"alpha\", 1e-5, 1)\n",
      "/var/folders/lb/x4v1k6xx17344x5164xr7d_w0000gn/T/ipykernel_27563/3009714792.py:16: FutureWarning: suggest_loguniform has been deprecated in v3.0.0. This feature will be removed in v6.0.0. See https://github.com/optuna/optuna/releases/tag/v3.0.0. Use suggest_float(..., log=True) instead.\n",
      "  alpha = trial.suggest_loguniform(\"alpha\", 1e-5, 1)\n",
      "/var/folders/lb/x4v1k6xx17344x5164xr7d_w0000gn/T/ipykernel_27563/3009714792.py:16: FutureWarning: suggest_loguniform has been deprecated in v3.0.0. This feature will be removed in v6.0.0. See https://github.com/optuna/optuna/releases/tag/v3.0.0. Use suggest_float(..., log=True) instead.\n",
      "  alpha = trial.suggest_loguniform(\"alpha\", 1e-5, 1)\n",
      "/var/folders/lb/x4v1k6xx17344x5164xr7d_w0000gn/T/ipykernel_27563/3009714792.py:16: FutureWarning: suggest_loguniform has been deprecated in v3.0.0. This feature will be removed in v6.0.0. See https://github.com/optuna/optuna/releases/tag/v3.0.0. Use suggest_float(..., log=True) instead.\n",
      "  alpha = trial.suggest_loguniform(\"alpha\", 1e-5, 1)\n",
      "/var/folders/lb/x4v1k6xx17344x5164xr7d_w0000gn/T/ipykernel_27563/3009714792.py:16: FutureWarning: suggest_loguniform has been deprecated in v3.0.0. This feature will be removed in v6.0.0. See https://github.com/optuna/optuna/releases/tag/v3.0.0. Use suggest_float(..., log=True) instead.\n",
      "  alpha = trial.suggest_loguniform(\"alpha\", 1e-5, 1)\n",
      "/var/folders/lb/x4v1k6xx17344x5164xr7d_w0000gn/T/ipykernel_27563/3009714792.py:13: FutureWarning: suggest_loguniform has been deprecated in v3.0.0. This feature will be removed in v6.0.0. See https://github.com/optuna/optuna/releases/tag/v3.0.0. Use suggest_float(..., log=True) instead.\n",
      "  alpha = trial.suggest_loguniform(\"alpha\", 1e-5, 1)\n",
      "/var/folders/lb/x4v1k6xx17344x5164xr7d_w0000gn/T/ipykernel_27563/3009714792.py:16: FutureWarning: suggest_loguniform has been deprecated in v3.0.0. This feature will be removed in v6.0.0. See https://github.com/optuna/optuna/releases/tag/v3.0.0. Use suggest_float(..., log=True) instead.\n",
      "  alpha = trial.suggest_loguniform(\"alpha\", 1e-5, 1)\n",
      "/var/folders/lb/x4v1k6xx17344x5164xr7d_w0000gn/T/ipykernel_27563/3009714792.py:16: FutureWarning: suggest_loguniform has been deprecated in v3.0.0. This feature will be removed in v6.0.0. See https://github.com/optuna/optuna/releases/tag/v3.0.0. Use suggest_float(..., log=True) instead.\n",
      "  alpha = trial.suggest_loguniform(\"alpha\", 1e-5, 1)\n",
      "/var/folders/lb/x4v1k6xx17344x5164xr7d_w0000gn/T/ipykernel_27563/3009714792.py:16: FutureWarning: suggest_loguniform has been deprecated in v3.0.0. This feature will be removed in v6.0.0. See https://github.com/optuna/optuna/releases/tag/v3.0.0. Use suggest_float(..., log=True) instead.\n",
      "  alpha = trial.suggest_loguniform(\"alpha\", 1e-5, 1)\n",
      "/var/folders/lb/x4v1k6xx17344x5164xr7d_w0000gn/T/ipykernel_27563/3009714792.py:16: FutureWarning: suggest_loguniform has been deprecated in v3.0.0. This feature will be removed in v6.0.0. See https://github.com/optuna/optuna/releases/tag/v3.0.0. Use suggest_float(..., log=True) instead.\n",
      "  alpha = trial.suggest_loguniform(\"alpha\", 1e-5, 1)\n",
      "/var/folders/lb/x4v1k6xx17344x5164xr7d_w0000gn/T/ipykernel_27563/3009714792.py:16: FutureWarning: suggest_loguniform has been deprecated in v3.0.0. This feature will be removed in v6.0.0. See https://github.com/optuna/optuna/releases/tag/v3.0.0. Use suggest_float(..., log=True) instead.\n",
      "  alpha = trial.suggest_loguniform(\"alpha\", 1e-5, 1)\n",
      "/var/folders/lb/x4v1k6xx17344x5164xr7d_w0000gn/T/ipykernel_27563/3009714792.py:16: FutureWarning: suggest_loguniform has been deprecated in v3.0.0. This feature will be removed in v6.0.0. See https://github.com/optuna/optuna/releases/tag/v3.0.0. Use suggest_float(..., log=True) instead.\n",
      "  alpha = trial.suggest_loguniform(\"alpha\", 1e-5, 1)\n",
      "/var/folders/lb/x4v1k6xx17344x5164xr7d_w0000gn/T/ipykernel_27563/3009714792.py:16: FutureWarning: suggest_loguniform has been deprecated in v3.0.0. This feature will be removed in v6.0.0. See https://github.com/optuna/optuna/releases/tag/v3.0.0. Use suggest_float(..., log=True) instead.\n",
      "  alpha = trial.suggest_loguniform(\"alpha\", 1e-5, 1)\n",
      "/var/folders/lb/x4v1k6xx17344x5164xr7d_w0000gn/T/ipykernel_27563/3009714792.py:13: FutureWarning: suggest_loguniform has been deprecated in v3.0.0. This feature will be removed in v6.0.0. See https://github.com/optuna/optuna/releases/tag/v3.0.0. Use suggest_float(..., log=True) instead.\n",
      "  alpha = trial.suggest_loguniform(\"alpha\", 1e-5, 1)\n",
      "/var/folders/lb/x4v1k6xx17344x5164xr7d_w0000gn/T/ipykernel_27563/3009714792.py:13: FutureWarning: suggest_loguniform has been deprecated in v3.0.0. This feature will be removed in v6.0.0. See https://github.com/optuna/optuna/releases/tag/v3.0.0. Use suggest_float(..., log=True) instead.\n",
      "  alpha = trial.suggest_loguniform(\"alpha\", 1e-5, 1)\n",
      "/var/folders/lb/x4v1k6xx17344x5164xr7d_w0000gn/T/ipykernel_27563/3009714792.py:16: FutureWarning: suggest_loguniform has been deprecated in v3.0.0. This feature will be removed in v6.0.0. See https://github.com/optuna/optuna/releases/tag/v3.0.0. Use suggest_float(..., log=True) instead.\n",
      "  alpha = trial.suggest_loguniform(\"alpha\", 1e-5, 1)\n",
      "/var/folders/lb/x4v1k6xx17344x5164xr7d_w0000gn/T/ipykernel_27563/3009714792.py:16: FutureWarning: suggest_loguniform has been deprecated in v3.0.0. This feature will be removed in v6.0.0. See https://github.com/optuna/optuna/releases/tag/v3.0.0. Use suggest_float(..., log=True) instead.\n",
      "  alpha = trial.suggest_loguniform(\"alpha\", 1e-5, 1)\n",
      "/var/folders/lb/x4v1k6xx17344x5164xr7d_w0000gn/T/ipykernel_27563/3009714792.py:16: FutureWarning: suggest_loguniform has been deprecated in v3.0.0. This feature will be removed in v6.0.0. See https://github.com/optuna/optuna/releases/tag/v3.0.0. Use suggest_float(..., log=True) instead.\n",
      "  alpha = trial.suggest_loguniform(\"alpha\", 1e-5, 1)\n",
      "/var/folders/lb/x4v1k6xx17344x5164xr7d_w0000gn/T/ipykernel_27563/3009714792.py:16: FutureWarning: suggest_loguniform has been deprecated in v3.0.0. This feature will be removed in v6.0.0. See https://github.com/optuna/optuna/releases/tag/v3.0.0. Use suggest_float(..., log=True) instead.\n",
      "  alpha = trial.suggest_loguniform(\"alpha\", 1e-5, 1)\n",
      "/var/folders/lb/x4v1k6xx17344x5164xr7d_w0000gn/T/ipykernel_27563/3009714792.py:16: FutureWarning: suggest_loguniform has been deprecated in v3.0.0. This feature will be removed in v6.0.0. See https://github.com/optuna/optuna/releases/tag/v3.0.0. Use suggest_float(..., log=True) instead.\n",
      "  alpha = trial.suggest_loguniform(\"alpha\", 1e-5, 1)\n",
      "/var/folders/lb/x4v1k6xx17344x5164xr7d_w0000gn/T/ipykernel_27563/3009714792.py:16: FutureWarning: suggest_loguniform has been deprecated in v3.0.0. This feature will be removed in v6.0.0. See https://github.com/optuna/optuna/releases/tag/v3.0.0. Use suggest_float(..., log=True) instead.\n",
      "  alpha = trial.suggest_loguniform(\"alpha\", 1e-5, 1)\n",
      "/var/folders/lb/x4v1k6xx17344x5164xr7d_w0000gn/T/ipykernel_27563/3009714792.py:16: FutureWarning: suggest_loguniform has been deprecated in v3.0.0. This feature will be removed in v6.0.0. See https://github.com/optuna/optuna/releases/tag/v3.0.0. Use suggest_float(..., log=True) instead.\n",
      "  alpha = trial.suggest_loguniform(\"alpha\", 1e-5, 1)\n",
      "/var/folders/lb/x4v1k6xx17344x5164xr7d_w0000gn/T/ipykernel_27563/3009714792.py:16: FutureWarning: suggest_loguniform has been deprecated in v3.0.0. This feature will be removed in v6.0.0. See https://github.com/optuna/optuna/releases/tag/v3.0.0. Use suggest_float(..., log=True) instead.\n",
      "  alpha = trial.suggest_loguniform(\"alpha\", 1e-5, 1)\n",
      "/var/folders/lb/x4v1k6xx17344x5164xr7d_w0000gn/T/ipykernel_27563/3009714792.py:16: FutureWarning: suggest_loguniform has been deprecated in v3.0.0. This feature will be removed in v6.0.0. See https://github.com/optuna/optuna/releases/tag/v3.0.0. Use suggest_float(..., log=True) instead.\n",
      "  alpha = trial.suggest_loguniform(\"alpha\", 1e-5, 1)\n",
      "/var/folders/lb/x4v1k6xx17344x5164xr7d_w0000gn/T/ipykernel_27563/3009714792.py:16: FutureWarning: suggest_loguniform has been deprecated in v3.0.0. This feature will be removed in v6.0.0. See https://github.com/optuna/optuna/releases/tag/v3.0.0. Use suggest_float(..., log=True) instead.\n",
      "  alpha = trial.suggest_loguniform(\"alpha\", 1e-5, 1)\n",
      "/var/folders/lb/x4v1k6xx17344x5164xr7d_w0000gn/T/ipykernel_27563/3009714792.py:16: FutureWarning: suggest_loguniform has been deprecated in v3.0.0. This feature will be removed in v6.0.0. See https://github.com/optuna/optuna/releases/tag/v3.0.0. Use suggest_float(..., log=True) instead.\n",
      "  alpha = trial.suggest_loguniform(\"alpha\", 1e-5, 1)\n",
      "/var/folders/lb/x4v1k6xx17344x5164xr7d_w0000gn/T/ipykernel_27563/3009714792.py:16: FutureWarning: suggest_loguniform has been deprecated in v3.0.0. This feature will be removed in v6.0.0. See https://github.com/optuna/optuna/releases/tag/v3.0.0. Use suggest_float(..., log=True) instead.\n",
      "  alpha = trial.suggest_loguniform(\"alpha\", 1e-5, 1)\n",
      "/var/folders/lb/x4v1k6xx17344x5164xr7d_w0000gn/T/ipykernel_27563/3009714792.py:19: FutureWarning: suggest_loguniform has been deprecated in v3.0.0. This feature will be removed in v6.0.0. See https://github.com/optuna/optuna/releases/tag/v3.0.0. Use suggest_float(..., log=True) instead.\n",
      "  alpha = trial.suggest_loguniform(\"alpha\", 1e-5, 1)\n",
      "/var/folders/lb/x4v1k6xx17344x5164xr7d_w0000gn/T/ipykernel_27563/3009714792.py:20: FutureWarning: suggest_uniform has been deprecated in v3.0.0. This feature will be removed in v6.0.0. See https://github.com/optuna/optuna/releases/tag/v3.0.0. Use suggest_float instead.\n",
      "  l1_ratio = trial.suggest_uniform(\"l1_ratio\", 0, 1)\n",
      "/var/folders/lb/x4v1k6xx17344x5164xr7d_w0000gn/T/ipykernel_27563/3009714792.py:16: FutureWarning: suggest_loguniform has been deprecated in v3.0.0. This feature will be removed in v6.0.0. See https://github.com/optuna/optuna/releases/tag/v3.0.0. Use suggest_float(..., log=True) instead.\n",
      "  alpha = trial.suggest_loguniform(\"alpha\", 1e-5, 1)\n",
      "/var/folders/lb/x4v1k6xx17344x5164xr7d_w0000gn/T/ipykernel_27563/3009714792.py:16: FutureWarning: suggest_loguniform has been deprecated in v3.0.0. This feature will be removed in v6.0.0. See https://github.com/optuna/optuna/releases/tag/v3.0.0. Use suggest_float(..., log=True) instead.\n",
      "  alpha = trial.suggest_loguniform(\"alpha\", 1e-5, 1)\n",
      "/var/folders/lb/x4v1k6xx17344x5164xr7d_w0000gn/T/ipykernel_27563/3009714792.py:13: FutureWarning: suggest_loguniform has been deprecated in v3.0.0. This feature will be removed in v6.0.0. See https://github.com/optuna/optuna/releases/tag/v3.0.0. Use suggest_float(..., log=True) instead.\n",
      "  alpha = trial.suggest_loguniform(\"alpha\", 1e-5, 1)\n",
      "/var/folders/lb/x4v1k6xx17344x5164xr7d_w0000gn/T/ipykernel_27563/3009714792.py:19: FutureWarning: suggest_loguniform has been deprecated in v3.0.0. This feature will be removed in v6.0.0. See https://github.com/optuna/optuna/releases/tag/v3.0.0. Use suggest_float(..., log=True) instead.\n",
      "  alpha = trial.suggest_loguniform(\"alpha\", 1e-5, 1)\n",
      "/var/folders/lb/x4v1k6xx17344x5164xr7d_w0000gn/T/ipykernel_27563/3009714792.py:20: FutureWarning: suggest_uniform has been deprecated in v3.0.0. This feature will be removed in v6.0.0. See https://github.com/optuna/optuna/releases/tag/v3.0.0. Use suggest_float instead.\n",
      "  l1_ratio = trial.suggest_uniform(\"l1_ratio\", 0, 1)\n",
      "/var/folders/lb/x4v1k6xx17344x5164xr7d_w0000gn/T/ipykernel_27563/3009714792.py:16: FutureWarning: suggest_loguniform has been deprecated in v3.0.0. This feature will be removed in v6.0.0. See https://github.com/optuna/optuna/releases/tag/v3.0.0. Use suggest_float(..., log=True) instead.\n",
      "  alpha = trial.suggest_loguniform(\"alpha\", 1e-5, 1)\n",
      "/Users/miltonlopez/repos/tp2-main/.venv/lib/python3.12/site-packages/sklearn/metrics/_regression.py:492: FutureWarning: 'squared' is deprecated in version 1.4 and will be removed in 1.6. To calculate the root mean squared error, use the function'root_mean_squared_error'.\n",
      "  warnings.warn(\n",
      "/Users/miltonlopez/repos/tp2-main/.venv/lib/python3.12/site-packages/mlflow/types/utils.py:406: UserWarning: Hint: Inferred schema contains integer column(s). Integer columns in Python cannot represent missing values. If your input data contains missing values at inference time, it will be encoded as floats and will cause a schema enforcement error. The best way to avoid this problem is to infer the model schema based on a realistic data sample (training dataset) that includes missing values. Alternatively, you can declare integer columns as doubles (float64) whenever these columns may have missing values. See `Handling Integers With Missing Values <https://www.mlflow.org/docs/latest/models.html#handling-integers-with-missing-values>`_ for more details.\n",
      "  warnings.warn(\n",
      "Successfully registered model 'bigmart_sales_model_dev'.\n",
      "2024/06/22 00:26:07 INFO mlflow.store.model_registry.abstract_store: Waiting up to 300 seconds for model version to finish creation. Model name: bigmart_sales_model_dev, version 1\n",
      "Created version '1' of model 'bigmart_sales_model_dev'.\n"
     ]
    }
   ],
   "source": [
    "with mlflow.start_run(experiment_id=experiment_id, run_name=run_name_parent):\n",
    "    study = optuna.create_study(direction=\"minimize\")\n",
    "    study.optimize(lambda trial: objective(trial, X_train, y_train), n_trials=50)\n",
    "\n",
    "    best_params = study.best_params\n",
    "    mlflow.log_params(best_params)\n",
    "    mlflow.log_metric(\"best_rmse\", study.best_value)\n",
    "\n",
    "    if best_params.get(\"model_type\") == \"Linear\":\n",
    "        best_model = LinearRegression()\n",
    "    elif best_params.get(\"model_type\") == \"Ridge\":\n",
    "        best_model = Ridge(alpha=best_params[\"alpha\"])\n",
    "    elif best_params.get(\"model_type\") == \"Lasso\":\n",
    "        best_model = Lasso(alpha=best_params[\"alpha\"])\n",
    "    else:\n",
    "        best_model = ElasticNet(\n",
    "            alpha=best_params[\"alpha\"], l1_ratio=best_params[\"l1_ratio\"]\n",
    "        )\n",
    "\n",
    "    best_model.fit(X_train, y_train.values.ravel())\n",
    "\n",
    "    y_pred = best_model.predict(X_test)\n",
    "    test_rmse = mean_squared_error(y_test, y_pred, squared=False)\n",
    "    test_r2 = r2_score(y_test, y_pred)\n",
    "    mlflow.log_metric(\"test_rmse\", test_rmse)\n",
    "    mlflow.log_metric(\"test_r2\", test_r2)\n",
    "\n",
    "    mlflow.log_figure(correlation_plot, \"correlation_plot.png\")\n",
    "\n",
    "    artifact_path = \"model\"\n",
    "    signature = infer_signature(X_train, best_model.predict(X_train))\n",
    "    mlflow.sklearn.log_model(\n",
    "        best_model,\n",
    "        artifact_path,\n",
    "        signature=signature,\n",
    "        registered_model_name=\"bigmart_sales_model_dev\",\n",
    "    )\n",
    "\n",
    "    model_uri = mlflow.get_artifact_uri(artifact_path)"
   ]
  },
  {
   "cell_type": "markdown",
   "metadata": {},
   "source": [
    "## Model testing\n"
   ]
  },
  {
   "cell_type": "code",
   "execution_count": 10,
   "metadata": {
    "ExecuteTime": {
     "end_time": "2024-06-06T12:33:57.138907Z",
     "start_time": "2024-06-06T12:33:57.074256Z"
    }
   },
   "outputs": [
    {
     "name": "stderr",
     "output_type": "stream",
     "text": [
      "Downloading artifacts: 100%|██████████| 9/9 [00:00<00:00, 1410.43it/s]\n"
     ]
    }
   ],
   "source": [
    "loaded_model = mlflow.sklearn.load_model(model_uri)"
   ]
  },
  {
   "cell_type": "code",
   "execution_count": 11,
   "metadata": {},
   "outputs": [
    {
     "name": "stdout",
     "output_type": "stream",
     "text": [
      "Test RMSE: 1155.4416116643067\n",
      "Test R^2: 0.3976157403072126\n",
      "Sample Prediction: [1168.06928302]\n",
      "   Item_Weight  Item_Visibility  Item_MRP  Outlet_Establishment_Year  \\\n",
      "0     -1.43105         -1.08861         1                       2004   \n",
      "\n",
      "   Outlet_Size  Outlet_Location_Type  Outlet_Type_Supermarket Type1  \\\n",
      "0            0                     1                           True   \n",
      "\n",
      "   Outlet_Type_Supermarket Type2  \n",
      "0                          False  \n"
     ]
    },
    {
     "name": "stderr",
     "output_type": "stream",
     "text": [
      "/Users/miltonlopez/repos/tp2-main/.venv/lib/python3.12/site-packages/sklearn/metrics/_regression.py:492: FutureWarning: 'squared' is deprecated in version 1.4 and will be removed in 1.6. To calculate the root mean squared error, use the function'root_mean_squared_error'.\n",
      "  warnings.warn(\n"
     ]
    }
   ],
   "source": [
    "y_pred = loaded_model.predict(X_test)\n",
    "test_rmse = mean_squared_error(y_test, y_pred, squared=False)\n",
    "test_r2 = r2_score(y_test, y_pred)\n",
    "print(f\"Test RMSE: {test_rmse}\")\n",
    "print(f\"Test R^2: {test_r2}\")\n",
    "\n",
    "sample_data = X_test.iloc[0:1, :]\n",
    "sample_prediction = loaded_model.predict(sample_data)\n",
    "print(f\"Sample Prediction: {sample_prediction}\")\n",
    "print(sample_data)"
   ]
  },
  {
   "cell_type": "code",
   "execution_count": 12,
   "metadata": {},
   "outputs": [
    {
     "data": {
      "text/html": [
       "<div>\n",
       "<style scoped>\n",
       "    .dataframe tbody tr th:only-of-type {\n",
       "        vertical-align: middle;\n",
       "    }\n",
       "\n",
       "    .dataframe tbody tr th {\n",
       "        vertical-align: top;\n",
       "    }\n",
       "\n",
       "    .dataframe thead th {\n",
       "        text-align: right;\n",
       "    }\n",
       "</style>\n",
       "<table border=\"1\" class=\"dataframe\">\n",
       "  <thead>\n",
       "    <tr style=\"text-align: right;\">\n",
       "      <th></th>\n",
       "      <th>Item_Weight</th>\n",
       "      <th>Item_Visibility</th>\n",
       "      <th>Item_MRP</th>\n",
       "      <th>Outlet_Establishment_Year</th>\n",
       "      <th>Outlet_Size</th>\n",
       "      <th>Outlet_Location_Type</th>\n",
       "      <th>Outlet_Type_Supermarket Type1</th>\n",
       "      <th>Outlet_Type_Supermarket Type2</th>\n",
       "    </tr>\n",
       "  </thead>\n",
       "  <tbody>\n",
       "    <tr>\n",
       "      <th>0</th>\n",
       "      <td>-1.43105</td>\n",
       "      <td>-1.08861</td>\n",
       "      <td>1</td>\n",
       "      <td>2004</td>\n",
       "      <td>0</td>\n",
       "      <td>1</td>\n",
       "      <td>True</td>\n",
       "      <td>False</td>\n",
       "    </tr>\n",
       "  </tbody>\n",
       "</table>\n",
       "</div>"
      ],
      "text/plain": [
       "   Item_Weight  Item_Visibility  Item_MRP  Outlet_Establishment_Year  \\\n",
       "0     -1.43105         -1.08861         1                       2004   \n",
       "\n",
       "   Outlet_Size  Outlet_Location_Type  Outlet_Type_Supermarket Type1  \\\n",
       "0            0                     1                           True   \n",
       "\n",
       "   Outlet_Type_Supermarket Type2  \n",
       "0                          False  "
      ]
     },
     "execution_count": 12,
     "metadata": {},
     "output_type": "execute_result"
    }
   ],
   "source": [
    "sample_data"
   ]
  },
  {
   "cell_type": "markdown",
   "metadata": {},
   "source": [
    "## Model registering\n"
   ]
  },
  {
   "cell_type": "code",
   "execution_count": 13,
   "metadata": {},
   "outputs": [
    {
     "name": "stderr",
     "output_type": "stream",
     "text": [
      "2024/06/22 00:26:07 INFO mlflow.store.model_registry.abstract_store: Waiting up to 300 seconds for model version to finish creation. Model name: bigmart_sales_model_prod, version 1\n"
     ]
    }
   ],
   "source": [
    "from mlflow import MlflowClient\n",
    "\n",
    "client = MlflowClient()\n",
    "name = \"bigmart_sales_model_prod\"\n",
    "desc = \"This regressor predicts sales for BigMart products\"\n",
    "\n",
    "client.create_registered_model(name=name, description=desc)\n",
    "\n",
    "tags = best_model.get_params()\n",
    "tags[\"model\"] = type(best_model).__name__\n",
    "tags[\"rmse\"] = test_rmse\n",
    "\n",
    "result = client.create_model_version(\n",
    "    name=name, source=model_uri, run_id=model_uri.split(\"/\")[-3], tags=tags\n",
    ")\n",
    "\n",
    "\n",
    "client.set_registered_model_alias(name, \"champion\", result.version)"
   ]
  }
 ],
 "metadata": {
  "kernelspec": {
   "display_name": ".venv",
   "language": "python",
   "name": "python3"
  },
  "language_info": {
   "codemirror_mode": {
    "name": "ipython",
    "version": 3
   },
   "file_extension": ".py",
   "mimetype": "text/x-python",
   "name": "python",
   "nbconvert_exporter": "python",
   "pygments_lexer": "ipython3",
   "version": "3.12.3"
  }
 },
 "nbformat": 4,
 "nbformat_minor": 4
}
